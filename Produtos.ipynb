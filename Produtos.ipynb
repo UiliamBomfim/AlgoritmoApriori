{
 "cells": [
  {
   "cell_type": "code",
   "execution_count": 1,
   "id": "e5396fec",
   "metadata": {},
   "outputs": [],
   "source": [
    "import pandas as pd\n",
    "import numpy as np\n",
    "from pandas import DataFrame"
   ]
  },
  {
   "cell_type": "code",
   "execution_count": 2,
   "id": "27bffc63",
   "metadata": {},
   "outputs": [
    {
     "name": "stdout",
     "output_type": "stream",
     "text": [
      "[['café' 'pao' 'manteiga' 0]\n",
      " ['leite' 'cerveja' 'pao' 'manteiga']\n",
      " ['café' 'pao' 'manteiga' 0]\n",
      " ['leite' 'café' 'pao' 'manteiga']\n",
      " ['cerveja' 0 0 0]\n",
      " ['manteiga' 0 0 0]\n",
      " ['pao' 0 0 0]\n",
      " ['feijao' 0 0 0]\n",
      " ['arroz' 'feijao' 0 0]\n",
      " ['arroz' 0 0 0]]\n"
     ]
    },
    {
     "data": {
      "text/plain": [
       "10"
      ]
     },
     "execution_count": 2,
     "metadata": {},
     "output_type": "execute_result"
    }
   ],
   "source": [
    "df = pd.read_csv('Produtos.csv', header=None)\n",
    "df.replace(np.nan, 0, inplace = True)\n",
    "dataset = df.values\n",
    "print (dataset)\n",
    "len(dataset)"
   ]
  },
  {
   "cell_type": "code",
   "execution_count": 3,
   "id": "6ccff1f1",
   "metadata": {},
   "outputs": [
    {
     "data": {
      "text/html": [
       "<div>\n",
       "<style scoped>\n",
       "    .dataframe tbody tr th:only-of-type {\n",
       "        vertical-align: middle;\n",
       "    }\n",
       "\n",
       "    .dataframe tbody tr th {\n",
       "        vertical-align: top;\n",
       "    }\n",
       "\n",
       "    .dataframe thead th {\n",
       "        text-align: right;\n",
       "    }\n",
       "</style>\n",
       "<table border=\"1\" class=\"dataframe\">\n",
       "  <thead>\n",
       "    <tr style=\"text-align: right;\">\n",
       "      <th></th>\n",
       "      <th>0</th>\n",
       "      <th>1</th>\n",
       "      <th>2</th>\n",
       "      <th>3</th>\n",
       "    </tr>\n",
       "  </thead>\n",
       "  <tbody>\n",
       "    <tr>\n",
       "      <th>0</th>\n",
       "      <td>café</td>\n",
       "      <td>pao</td>\n",
       "      <td>manteiga</td>\n",
       "      <td>0</td>\n",
       "    </tr>\n",
       "    <tr>\n",
       "      <th>1</th>\n",
       "      <td>leite</td>\n",
       "      <td>cerveja</td>\n",
       "      <td>pao</td>\n",
       "      <td>manteiga</td>\n",
       "    </tr>\n",
       "    <tr>\n",
       "      <th>2</th>\n",
       "      <td>café</td>\n",
       "      <td>pao</td>\n",
       "      <td>manteiga</td>\n",
       "      <td>0</td>\n",
       "    </tr>\n",
       "    <tr>\n",
       "      <th>3</th>\n",
       "      <td>leite</td>\n",
       "      <td>café</td>\n",
       "      <td>pao</td>\n",
       "      <td>manteiga</td>\n",
       "    </tr>\n",
       "    <tr>\n",
       "      <th>4</th>\n",
       "      <td>cerveja</td>\n",
       "      <td>0</td>\n",
       "      <td>0</td>\n",
       "      <td>0</td>\n",
       "    </tr>\n",
       "    <tr>\n",
       "      <th>5</th>\n",
       "      <td>manteiga</td>\n",
       "      <td>0</td>\n",
       "      <td>0</td>\n",
       "      <td>0</td>\n",
       "    </tr>\n",
       "    <tr>\n",
       "      <th>6</th>\n",
       "      <td>pao</td>\n",
       "      <td>0</td>\n",
       "      <td>0</td>\n",
       "      <td>0</td>\n",
       "    </tr>\n",
       "    <tr>\n",
       "      <th>7</th>\n",
       "      <td>feijao</td>\n",
       "      <td>0</td>\n",
       "      <td>0</td>\n",
       "      <td>0</td>\n",
       "    </tr>\n",
       "    <tr>\n",
       "      <th>8</th>\n",
       "      <td>arroz</td>\n",
       "      <td>feijao</td>\n",
       "      <td>0</td>\n",
       "      <td>0</td>\n",
       "    </tr>\n",
       "    <tr>\n",
       "      <th>9</th>\n",
       "      <td>arroz</td>\n",
       "      <td>0</td>\n",
       "      <td>0</td>\n",
       "      <td>0</td>\n",
       "    </tr>\n",
       "  </tbody>\n",
       "</table>\n",
       "</div>"
      ],
      "text/plain": [
       "          0        1         2         3\n",
       "0      café      pao  manteiga         0\n",
       "1     leite  cerveja       pao  manteiga\n",
       "2      café      pao  manteiga         0\n",
       "3     leite     café       pao  manteiga\n",
       "4   cerveja        0         0         0\n",
       "5  manteiga        0         0         0\n",
       "6       pao        0         0         0\n",
       "7    feijao        0         0         0\n",
       "8     arroz   feijao         0         0\n",
       "9     arroz        0         0         0"
      ]
     },
     "execution_count": 3,
     "metadata": {},
     "output_type": "execute_result"
    }
   ],
   "source": [
    "frame = DataFrame(dataset)\n",
    "frame"
   ]
  },
  {
   "cell_type": "markdown",
   "id": "e0dd72a1",
   "metadata": {},
   "source": [
    "# Definindo Ponto de Support Threshold "
   ]
  },
  {
   "cell_type": "code",
   "execution_count": 4,
   "id": "bf5e2f42",
   "metadata": {},
   "outputs": [],
   "source": [
    "suporte = 0.2"
   ]
  },
  {
   "cell_type": "code",
   "execution_count": 5,
   "id": "ac73e213",
   "metadata": {
    "scrolled": true
   },
   "outputs": [
    {
     "data": {
      "text/plain": [
       "10"
      ]
     },
     "execution_count": 5,
     "metadata": {},
     "output_type": "execute_result"
    }
   ],
   "source": [
    "qtdTransacoes = len(dataset)\n",
    "qtdTransacoes"
   ]
  },
  {
   "cell_type": "markdown",
   "id": "08ba7b5a",
   "metadata": {},
   "source": [
    "# Lista de Itens"
   ]
  },
  {
   "cell_type": "code",
   "execution_count": 6,
   "id": "237ca6d7",
   "metadata": {},
   "outputs": [],
   "source": [
    "listaDeItens = []\n",
    "\n",
    "for i in range(len(dataset)):\n",
    "        for j in range(len(dataset[i])):\n",
    "                if(dataset[i][j] not in listaDeItens):\n",
    "                    listaDeItens.append(dataset[i][j])"
   ]
  },
  {
   "cell_type": "code",
   "execution_count": 7,
   "id": "0176544a",
   "metadata": {},
   "outputs": [
    {
     "data": {
      "text/plain": [
       "['café', 'pao', 'manteiga', 0, 'leite', 'cerveja', 'feijao', 'arroz']"
      ]
     },
     "execution_count": 7,
     "metadata": {},
     "output_type": "execute_result"
    }
   ],
   "source": [
    "listaDeItens\n"
   ]
  },
  {
   "cell_type": "code",
   "execution_count": 8,
   "id": "d753f8d4",
   "metadata": {},
   "outputs": [],
   "source": [
    "listaDeItens.remove(0)"
   ]
  },
  {
   "cell_type": "code",
   "execution_count": 9,
   "id": "3817e543",
   "metadata": {},
   "outputs": [
    {
     "data": {
      "text/plain": [
       "['café', 'pao', 'manteiga', 'leite', 'cerveja', 'feijao', 'arroz']"
      ]
     },
     "execution_count": 9,
     "metadata": {},
     "output_type": "execute_result"
    }
   ],
   "source": [
    "listaDeItens"
   ]
  },
  {
   "cell_type": "markdown",
   "id": "080500a9",
   "metadata": {},
   "source": [
    "# Contando Frequência dos itens"
   ]
  },
  {
   "cell_type": "code",
   "execution_count": 10,
   "id": "774316ea",
   "metadata": {},
   "outputs": [
    {
     "name": "stdout",
     "output_type": "stream",
     "text": [
      "{'café': 3, 'pao': 5, 'manteiga': 5, 'leite': 2, 'cerveja': 2, 'feijao': 2, 'arroz': 2}\n"
     ]
    }
   ],
   "source": [
    "frenquenciaPorItem = {}\n",
    "\n",
    "for item in listaDeItens:\n",
    "    frequencia = 0\n",
    "    for i in range(len(dataset)):\n",
    "        if(item in dataset[i]):\n",
    "            frequencia += 1\n",
    "    frenquenciaPorItem[item] = frequencia\n",
    "    \n",
    "print(frenquenciaPorItem)"
   ]
  },
  {
   "cell_type": "markdown",
   "id": "a0dde93a",
   "metadata": {},
   "source": [
    "# Exclusão com base no ponto de suporte"
   ]
  },
  {
   "cell_type": "code",
   "execution_count": 11,
   "id": "9276f6c4",
   "metadata": {},
   "outputs": [
    {
     "name": "stdout",
     "output_type": "stream",
     "text": [
      "Support Threshold number:  2.0\n"
     ]
    }
   ],
   "source": [
    "supportThreshold = len(dataset) * suporte\n",
    "print(\"Support Threshold number: \", supportThreshold)"
   ]
  },
  {
   "cell_type": "code",
   "execution_count": 12,
   "id": "1aaf545a",
   "metadata": {},
   "outputs": [
    {
     "data": {
      "text/plain": [
       "{'café': 3, 'pao': 5, 'manteiga': 5}"
      ]
     },
     "execution_count": 12,
     "metadata": {},
     "output_type": "execute_result"
    }
   ],
   "source": [
    "superaSuporte = {}\n",
    "\n",
    "\n",
    "for key, value in frenquenciaPorItem.items():\n",
    "    if(value > supportThreshold):\n",
    "        superaSuporte[key]= value\n",
    "        \n",
    "superaSuporte"
   ]
  },
  {
   "cell_type": "code",
   "execution_count": 13,
   "id": "7edc15d0",
   "metadata": {},
   "outputs": [
    {
     "data": {
      "text/html": [
       "<div>\n",
       "<style scoped>\n",
       "    .dataframe tbody tr th:only-of-type {\n",
       "        vertical-align: middle;\n",
       "    }\n",
       "\n",
       "    .dataframe tbody tr th {\n",
       "        vertical-align: top;\n",
       "    }\n",
       "\n",
       "    .dataframe thead th {\n",
       "        text-align: right;\n",
       "    }\n",
       "</style>\n",
       "<table border=\"1\" class=\"dataframe\">\n",
       "  <thead>\n",
       "    <tr style=\"text-align: right;\">\n",
       "      <th></th>\n",
       "      <th>0</th>\n",
       "      <th>1</th>\n",
       "      <th>2</th>\n",
       "      <th>3</th>\n",
       "    </tr>\n",
       "  </thead>\n",
       "  <tbody>\n",
       "    <tr>\n",
       "      <th>0</th>\n",
       "      <td>café</td>\n",
       "      <td>pao</td>\n",
       "      <td>manteiga</td>\n",
       "      <td>0</td>\n",
       "    </tr>\n",
       "    <tr>\n",
       "      <th>1</th>\n",
       "      <td>leite</td>\n",
       "      <td>cerveja</td>\n",
       "      <td>pao</td>\n",
       "      <td>manteiga</td>\n",
       "    </tr>\n",
       "    <tr>\n",
       "      <th>2</th>\n",
       "      <td>café</td>\n",
       "      <td>pao</td>\n",
       "      <td>manteiga</td>\n",
       "      <td>0</td>\n",
       "    </tr>\n",
       "    <tr>\n",
       "      <th>3</th>\n",
       "      <td>leite</td>\n",
       "      <td>café</td>\n",
       "      <td>pao</td>\n",
       "      <td>manteiga</td>\n",
       "    </tr>\n",
       "    <tr>\n",
       "      <th>4</th>\n",
       "      <td>cerveja</td>\n",
       "      <td>0</td>\n",
       "      <td>0</td>\n",
       "      <td>0</td>\n",
       "    </tr>\n",
       "    <tr>\n",
       "      <th>5</th>\n",
       "      <td>manteiga</td>\n",
       "      <td>0</td>\n",
       "      <td>0</td>\n",
       "      <td>0</td>\n",
       "    </tr>\n",
       "    <tr>\n",
       "      <th>6</th>\n",
       "      <td>pao</td>\n",
       "      <td>0</td>\n",
       "      <td>0</td>\n",
       "      <td>0</td>\n",
       "    </tr>\n",
       "    <tr>\n",
       "      <th>7</th>\n",
       "      <td>feijao</td>\n",
       "      <td>0</td>\n",
       "      <td>0</td>\n",
       "      <td>0</td>\n",
       "    </tr>\n",
       "    <tr>\n",
       "      <th>8</th>\n",
       "      <td>arroz</td>\n",
       "      <td>feijao</td>\n",
       "      <td>0</td>\n",
       "      <td>0</td>\n",
       "    </tr>\n",
       "    <tr>\n",
       "      <th>9</th>\n",
       "      <td>arroz</td>\n",
       "      <td>0</td>\n",
       "      <td>0</td>\n",
       "      <td>0</td>\n",
       "    </tr>\n",
       "  </tbody>\n",
       "</table>\n",
       "</div>"
      ],
      "text/plain": [
       "          0        1         2         3\n",
       "0      café      pao  manteiga         0\n",
       "1     leite  cerveja       pao  manteiga\n",
       "2      café      pao  manteiga         0\n",
       "3     leite     café       pao  manteiga\n",
       "4   cerveja        0         0         0\n",
       "5  manteiga        0         0         0\n",
       "6       pao        0         0         0\n",
       "7    feijao        0         0         0\n",
       "8     arroz   feijao         0         0\n",
       "9     arroz        0         0         0"
      ]
     },
     "execution_count": 13,
     "metadata": {},
     "output_type": "execute_result"
    }
   ],
   "source": [
    "frame"
   ]
  },
  {
   "cell_type": "markdown",
   "id": "eff7fd2e",
   "metadata": {},
   "source": [
    "# Comparação com 2 produtos"
   ]
  },
  {
   "cell_type": "code",
   "execution_count": 14,
   "id": "6cda651e",
   "metadata": {},
   "outputs": [
    {
     "name": "stdout",
     "output_type": "stream",
     "text": [
      "[['café', 'pao', 3], ['café', 'manteiga', 3], ['café', 'leite', 1], ['café', 'cerveja', 0], ['café', 'feijao', 0], ['café', 'arroz', 0], ['pao', 'manteiga', 4], ['pao', 'leite', 2], ['pao', 'cerveja', 1], ['pao', 'feijao', 0], ['pao', 'arroz', 0], ['manteiga', 'leite', 2], ['manteiga', 'cerveja', 1], ['manteiga', 'feijao', 0], ['manteiga', 'arroz', 0], ['leite', 'cerveja', 1], ['leite', 'feijao', 0], ['leite', 'arroz', 0], ['cerveja', 'feijao', 0], ['cerveja', 'arroz', 0], ['feijao', 'arroz', 1]]\n"
     ]
    }
   ],
   "source": [
    "def is_in_array(item1, item2, tocheck):\n",
    "    for i in range(len(tocheck)):\n",
    "        if item1 in tocheck[i] and item2 in tocheck[i]:\n",
    "            return True\n",
    "    return False\n",
    "\n",
    "itemFrequency = []\n",
    "\n",
    "for item1 in listaDeItens:\n",
    "    for item2 in listaDeItens:\n",
    "        if(item1 == item2):\n",
    "            continue\n",
    "        frequency = 0\n",
    "        isIn = is_in_array(item1, item2, itemFrequency)\n",
    "        if (isIn):\n",
    "            continue\n",
    "        for i in range(len(dataset)):\n",
    "            if(item1 in dataset[i] and  item2 in dataset[i]):\n",
    "                frequency += 1\n",
    "        itemFrequency.append([item1,item2,frequency])\n",
    "    \n",
    "print(itemFrequency)"
   ]
  },
  {
   "cell_type": "code",
   "execution_count": 15,
   "id": "10ab7f4b",
   "metadata": {},
   "outputs": [
    {
     "name": "stdout",
     "output_type": "stream",
     "text": [
      "[['café', 'pao', 3], ['café', 'manteiga', 3], ['pao', 'manteiga', 4]]\n"
     ]
    }
   ],
   "source": [
    "duoSuperaSuporte = []\n",
    "\n",
    "\n",
    "for i in range(len(itemFrequency)):\n",
    "    if(itemFrequency[i][2] > supportThreshold):\n",
    "        duoSuperaSuporte.append(itemFrequency[i])\n",
    "print (duoSuperaSuporte)"
   ]
  },
  {
   "cell_type": "code",
   "execution_count": 16,
   "id": "1e7c8325",
   "metadata": {},
   "outputs": [
    {
     "name": "stdout",
     "output_type": "stream",
     "text": [
      "confiança de quem comprou  café  em comprar  pao  =  1.0\n",
      "confiança de quem comprou  café  em comprar  manteiga  =  1.0\n",
      "confiança de quem comprou  pao  em comprar  manteiga  =  0.8\n"
     ]
    }
   ],
   "source": [
    "for item in duoSuperaSuporte:\n",
    "    valor = frenquenciaPorItem[item[0]]\n",
    "    confiance = item[2]/valor\n",
    "    print (\"confiança de quem comprou \", item[0], \" em comprar \", item[1], \" = \", confiance)"
   ]
  },
  {
   "cell_type": "markdown",
   "id": "3ed341a1",
   "metadata": {},
   "source": [
    "# Outra Forma"
   ]
  },
  {
   "cell_type": "code",
   "execution_count": 17,
   "id": "207be19c",
   "metadata": {},
   "outputs": [],
   "source": [
    "from mlxtend.preprocessing import TransactionEncoder"
   ]
  },
  {
   "cell_type": "code",
   "execution_count": 18,
   "id": "efdec2c1",
   "metadata": {},
   "outputs": [],
   "source": [
    "def removeZeros(lista, valor):\n",
    "    return list(filter(lambda x: x != valor, lista))"
   ]
  },
  {
   "cell_type": "code",
   "execution_count": 19,
   "id": "a3a3987d",
   "metadata": {},
   "outputs": [
    {
     "name": "stdout",
     "output_type": "stream",
     "text": [
      "[['café', 'pao', 'manteiga'], ['leite', 'cerveja', 'pao', 'manteiga'], ['café', 'pao', 'manteiga'], ['leite', 'café', 'pao', 'manteiga'], ['cerveja'], ['manteiga'], ['pao'], ['feijao'], ['arroz', 'feijao'], ['arroz']]\n"
     ]
    }
   ],
   "source": [
    "listaTransacoes = []\n",
    "\n",
    "for index, row in df.iterrows():\n",
    "    listaTransacaoUnica = row.values.tolist()\n",
    "    listaTransacaoUnica = removeZeros(listaTransacaoUnica, 0)\n",
    "    listaTransacoes.append(listaTransacaoUnica)\n",
    "\n",
    "\n",
    "print(listaTransacoes)"
   ]
  },
  {
   "cell_type": "code",
   "execution_count": 21,
   "id": "0d81f63b",
   "metadata": {},
   "outputs": [
    {
     "data": {
      "text/html": [
       "<div>\n",
       "<style scoped>\n",
       "    .dataframe tbody tr th:only-of-type {\n",
       "        vertical-align: middle;\n",
       "    }\n",
       "\n",
       "    .dataframe tbody tr th {\n",
       "        vertical-align: top;\n",
       "    }\n",
       "\n",
       "    .dataframe thead th {\n",
       "        text-align: right;\n",
       "    }\n",
       "</style>\n",
       "<table border=\"1\" class=\"dataframe\">\n",
       "  <thead>\n",
       "    <tr style=\"text-align: right;\">\n",
       "      <th></th>\n",
       "      <th>arroz</th>\n",
       "      <th>café</th>\n",
       "      <th>cerveja</th>\n",
       "      <th>feijao</th>\n",
       "      <th>leite</th>\n",
       "      <th>manteiga</th>\n",
       "      <th>pao</th>\n",
       "    </tr>\n",
       "  </thead>\n",
       "  <tbody>\n",
       "    <tr>\n",
       "      <th>0</th>\n",
       "      <td>False</td>\n",
       "      <td>True</td>\n",
       "      <td>False</td>\n",
       "      <td>False</td>\n",
       "      <td>False</td>\n",
       "      <td>True</td>\n",
       "      <td>True</td>\n",
       "    </tr>\n",
       "    <tr>\n",
       "      <th>1</th>\n",
       "      <td>False</td>\n",
       "      <td>False</td>\n",
       "      <td>True</td>\n",
       "      <td>False</td>\n",
       "      <td>True</td>\n",
       "      <td>True</td>\n",
       "      <td>True</td>\n",
       "    </tr>\n",
       "    <tr>\n",
       "      <th>2</th>\n",
       "      <td>False</td>\n",
       "      <td>True</td>\n",
       "      <td>False</td>\n",
       "      <td>False</td>\n",
       "      <td>False</td>\n",
       "      <td>True</td>\n",
       "      <td>True</td>\n",
       "    </tr>\n",
       "    <tr>\n",
       "      <th>3</th>\n",
       "      <td>False</td>\n",
       "      <td>True</td>\n",
       "      <td>False</td>\n",
       "      <td>False</td>\n",
       "      <td>True</td>\n",
       "      <td>True</td>\n",
       "      <td>True</td>\n",
       "    </tr>\n",
       "    <tr>\n",
       "      <th>4</th>\n",
       "      <td>False</td>\n",
       "      <td>False</td>\n",
       "      <td>True</td>\n",
       "      <td>False</td>\n",
       "      <td>False</td>\n",
       "      <td>False</td>\n",
       "      <td>False</td>\n",
       "    </tr>\n",
       "  </tbody>\n",
       "</table>\n",
       "</div>"
      ],
      "text/plain": [
       "   arroz   café  cerveja  feijao  leite  manteiga    pao\n",
       "0  False   True    False   False  False      True   True\n",
       "1  False  False     True   False   True      True   True\n",
       "2  False   True    False   False  False      True   True\n",
       "3  False   True    False   False   True      True   True\n",
       "4  False  False     True   False  False     False  False"
      ]
     },
     "execution_count": 21,
     "metadata": {},
     "output_type": "execute_result"
    }
   ],
   "source": [
    "tr = TransactionEncoder()\n",
    "\n",
    "trNovo = tr.fit(listaTransacoes).transform(listaTransacoes)\n",
    "df = pd.DataFrame(trNovo, columns=tr.columns_)\n",
    "\n",
    "df.head()"
   ]
  },
  {
   "cell_type": "code",
   "execution_count": 26,
   "id": "9621a89d",
   "metadata": {},
   "outputs": [
    {
     "data": {
      "text/html": [
       "<div>\n",
       "<style scoped>\n",
       "    .dataframe tbody tr th:only-of-type {\n",
       "        vertical-align: middle;\n",
       "    }\n",
       "\n",
       "    .dataframe tbody tr th {\n",
       "        vertical-align: top;\n",
       "    }\n",
       "\n",
       "    .dataframe thead th {\n",
       "        text-align: right;\n",
       "    }\n",
       "</style>\n",
       "<table border=\"1\" class=\"dataframe\">\n",
       "  <thead>\n",
       "    <tr style=\"text-align: right;\">\n",
       "      <th></th>\n",
       "      <th>support</th>\n",
       "      <th>itemsets</th>\n",
       "    </tr>\n",
       "  </thead>\n",
       "  <tbody>\n",
       "    <tr>\n",
       "      <th>5</th>\n",
       "      <td>0.5</td>\n",
       "      <td>(manteiga)</td>\n",
       "    </tr>\n",
       "    <tr>\n",
       "      <th>6</th>\n",
       "      <td>0.5</td>\n",
       "      <td>(pao)</td>\n",
       "    </tr>\n",
       "    <tr>\n",
       "      <th>16</th>\n",
       "      <td>0.4</td>\n",
       "      <td>(pao, manteiga)</td>\n",
       "    </tr>\n",
       "    <tr>\n",
       "      <th>9</th>\n",
       "      <td>0.3</td>\n",
       "      <td>(manteiga, café)</td>\n",
       "    </tr>\n",
       "    <tr>\n",
       "      <th>19</th>\n",
       "      <td>0.3</td>\n",
       "      <td>(pao, manteiga, café)</td>\n",
       "    </tr>\n",
       "    <tr>\n",
       "      <th>1</th>\n",
       "      <td>0.3</td>\n",
       "      <td>(café)</td>\n",
       "    </tr>\n",
       "    <tr>\n",
       "      <th>10</th>\n",
       "      <td>0.3</td>\n",
       "      <td>(pao, café)</td>\n",
       "    </tr>\n",
       "    <tr>\n",
       "      <th>15</th>\n",
       "      <td>0.2</td>\n",
       "      <td>(pao, leite)</td>\n",
       "    </tr>\n",
       "    <tr>\n",
       "      <th>14</th>\n",
       "      <td>0.2</td>\n",
       "      <td>(manteiga, leite)</td>\n",
       "    </tr>\n",
       "    <tr>\n",
       "      <th>0</th>\n",
       "      <td>0.2</td>\n",
       "      <td>(arroz)</td>\n",
       "    </tr>\n",
       "  </tbody>\n",
       "</table>\n",
       "</div>"
      ],
      "text/plain": [
       "    support               itemsets\n",
       "5       0.5             (manteiga)\n",
       "6       0.5                  (pao)\n",
       "16      0.4        (pao, manteiga)\n",
       "9       0.3       (manteiga, café)\n",
       "19      0.3  (pao, manteiga, café)\n",
       "1       0.3                 (café)\n",
       "10      0.3            (pao, café)\n",
       "15      0.2           (pao, leite)\n",
       "14      0.2      (manteiga, leite)\n",
       "0       0.2                (arroz)"
      ]
     },
     "execution_count": 26,
     "metadata": {},
     "output_type": "execute_result"
    }
   ],
   "source": [
    "from mlxtend.frequent_patterns import apriori, association_rules\n",
    "\n",
    "frequente_itens = apriori(df, min_support = 0.01, use_colnames = True)\n",
    "frequente_itens.sort_values(by=['support'], ascending = False).head(10)"
   ]
  },
  {
   "cell_type": "code",
   "execution_count": 27,
   "id": "e2683dc2",
   "metadata": {},
   "outputs": [
    {
     "data": {
      "text/html": [
       "<div>\n",
       "<style scoped>\n",
       "    .dataframe tbody tr th:only-of-type {\n",
       "        vertical-align: middle;\n",
       "    }\n",
       "\n",
       "    .dataframe tbody tr th {\n",
       "        vertical-align: top;\n",
       "    }\n",
       "\n",
       "    .dataframe thead th {\n",
       "        text-align: right;\n",
       "    }\n",
       "</style>\n",
       "<table border=\"1\" class=\"dataframe\">\n",
       "  <thead>\n",
       "    <tr style=\"text-align: right;\">\n",
       "      <th></th>\n",
       "      <th>antecedents</th>\n",
       "      <th>consequents</th>\n",
       "      <th>support</th>\n",
       "      <th>confidence</th>\n",
       "      <th>lift</th>\n",
       "    </tr>\n",
       "  </thead>\n",
       "  <tbody>\n",
       "    <tr>\n",
       "      <th>37</th>\n",
       "      <td>(leite)</td>\n",
       "      <td>(manteiga, cerveja)</td>\n",
       "      <td>0.1</td>\n",
       "      <td>0.5</td>\n",
       "      <td>5.00</td>\n",
       "    </tr>\n",
       "    <tr>\n",
       "      <th>42</th>\n",
       "      <td>(leite)</td>\n",
       "      <td>(pao, cerveja)</td>\n",
       "      <td>0.1</td>\n",
       "      <td>0.5</td>\n",
       "      <td>5.00</td>\n",
       "    </tr>\n",
       "    <tr>\n",
       "      <th>73</th>\n",
       "      <td>(leite)</td>\n",
       "      <td>(pao, manteiga, cerveja)</td>\n",
       "      <td>0.1</td>\n",
       "      <td>0.5</td>\n",
       "      <td>5.00</td>\n",
       "    </tr>\n",
       "    <tr>\n",
       "      <th>35</th>\n",
       "      <td>(manteiga, cerveja)</td>\n",
       "      <td>(leite)</td>\n",
       "      <td>0.1</td>\n",
       "      <td>1.0</td>\n",
       "      <td>5.00</td>\n",
       "    </tr>\n",
       "    <tr>\n",
       "      <th>71</th>\n",
       "      <td>(manteiga, cerveja)</td>\n",
       "      <td>(pao, leite)</td>\n",
       "      <td>0.1</td>\n",
       "      <td>1.0</td>\n",
       "      <td>5.00</td>\n",
       "    </tr>\n",
       "    <tr>\n",
       "      <th>...</th>\n",
       "      <td>...</td>\n",
       "      <td>...</td>\n",
       "      <td>...</td>\n",
       "      <td>...</td>\n",
       "      <td>...</td>\n",
       "    </tr>\n",
       "    <tr>\n",
       "      <th>17</th>\n",
       "      <td>(manteiga)</td>\n",
       "      <td>(pao)</td>\n",
       "      <td>0.4</td>\n",
       "      <td>0.8</td>\n",
       "      <td>1.60</td>\n",
       "    </tr>\n",
       "    <tr>\n",
       "      <th>16</th>\n",
       "      <td>(pao)</td>\n",
       "      <td>(manteiga)</td>\n",
       "      <td>0.4</td>\n",
       "      <td>0.8</td>\n",
       "      <td>1.60</td>\n",
       "    </tr>\n",
       "    <tr>\n",
       "      <th>46</th>\n",
       "      <td>(cerveja)</td>\n",
       "      <td>(pao, manteiga)</td>\n",
       "      <td>0.1</td>\n",
       "      <td>0.5</td>\n",
       "      <td>1.25</td>\n",
       "    </tr>\n",
       "    <tr>\n",
       "      <th>10</th>\n",
       "      <td>(cerveja)</td>\n",
       "      <td>(manteiga)</td>\n",
       "      <td>0.1</td>\n",
       "      <td>0.5</td>\n",
       "      <td>1.00</td>\n",
       "    </tr>\n",
       "    <tr>\n",
       "      <th>11</th>\n",
       "      <td>(cerveja)</td>\n",
       "      <td>(pao)</td>\n",
       "      <td>0.1</td>\n",
       "      <td>0.5</td>\n",
       "      <td>1.00</td>\n",
       "    </tr>\n",
       "  </tbody>\n",
       "</table>\n",
       "<p>75 rows × 5 columns</p>\n",
       "</div>"
      ],
      "text/plain": [
       "            antecedents               consequents  support  confidence  lift\n",
       "37              (leite)       (manteiga, cerveja)      0.1         0.5  5.00\n",
       "42              (leite)            (pao, cerveja)      0.1         0.5  5.00\n",
       "73              (leite)  (pao, manteiga, cerveja)      0.1         0.5  5.00\n",
       "35  (manteiga, cerveja)                   (leite)      0.1         1.0  5.00\n",
       "71  (manteiga, cerveja)              (pao, leite)      0.1         1.0  5.00\n",
       "..                  ...                       ...      ...         ...   ...\n",
       "17           (manteiga)                     (pao)      0.4         0.8  1.60\n",
       "16                (pao)                (manteiga)      0.4         0.8  1.60\n",
       "46            (cerveja)           (pao, manteiga)      0.1         0.5  1.25\n",
       "10            (cerveja)                (manteiga)      0.1         0.5  1.00\n",
       "11            (cerveja)                     (pao)      0.1         0.5  1.00\n",
       "\n",
       "[75 rows x 5 columns]"
      ]
     },
     "execution_count": 27,
     "metadata": {},
     "output_type": "execute_result"
    }
   ],
   "source": [
    "from mlxtend.frequent_patterns import association_rules\n",
    "\n",
    "rules = association_rules(frequent_itemsets, metric=\"confidence\", min_threshold=0.3)\n",
    "rules.sort_values(by=['lift'], ascending = False).drop(['antecedent support', 'consequent support', 'leverage', 'conviction'], axis=1)"
   ]
  }
 ],
 "metadata": {
  "kernelspec": {
   "display_name": "Python 3",
   "language": "python",
   "name": "python3"
  },
  "language_info": {
   "codemirror_mode": {
    "name": "ipython",
    "version": 3
   },
   "file_extension": ".py",
   "mimetype": "text/x-python",
   "name": "python",
   "nbconvert_exporter": "python",
   "pygments_lexer": "ipython3",
   "version": "3.8.8"
  }
 },
 "nbformat": 4,
 "nbformat_minor": 5
}
